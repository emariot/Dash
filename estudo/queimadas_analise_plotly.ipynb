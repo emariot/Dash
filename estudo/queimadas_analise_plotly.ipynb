{
 "cells": [
  {
   "cell_type": "code",
   "execution_count": 1,
   "metadata": {},
   "outputs": [],
   "source": [
    "import plotly.offline as pyo\n",
    "import plotly.graph_objs as go\n",
    "import pandas as pd"
   ]
  },
  {
   "cell_type": "code",
   "execution_count": 2,
   "metadata": {},
   "outputs": [
    {
     "data": {
      "text/html": [
       "<div>\n",
       "<style scoped>\n",
       "    .dataframe tbody tr th:only-of-type {\n",
       "        vertical-align: middle;\n",
       "    }\n",
       "\n",
       "    .dataframe tbody tr th {\n",
       "        vertical-align: top;\n",
       "    }\n",
       "\n",
       "    .dataframe thead th {\n",
       "        text-align: right;\n",
       "    }\n",
       "</style>\n",
       "<table border=\"1\" class=\"dataframe\">\n",
       "  <thead>\n",
       "    <tr style=\"text-align: right;\">\n",
       "      <th></th>\n",
       "      <th>Ano</th>\n",
       "      <th>Janeiro</th>\n",
       "      <th>Fevereiro</th>\n",
       "      <th>Março</th>\n",
       "      <th>Abril</th>\n",
       "      <th>Maio</th>\n",
       "      <th>Junho</th>\n",
       "      <th>Julho</th>\n",
       "      <th>Agosto</th>\n",
       "      <th>Setembro</th>\n",
       "      <th>Outubro</th>\n",
       "      <th>Novembro</th>\n",
       "      <th>Dezembro</th>\n",
       "      <th>Total</th>\n",
       "      <th>Bioma</th>\n",
       "    </tr>\n",
       "  </thead>\n",
       "  <tbody>\n",
       "    <tr>\n",
       "      <th>0</th>\n",
       "      <td>1998</td>\n",
       "      <td>0</td>\n",
       "      <td>0</td>\n",
       "      <td>0</td>\n",
       "      <td>0</td>\n",
       "      <td>0</td>\n",
       "      <td>1549</td>\n",
       "      <td>3192</td>\n",
       "      <td>20075</td>\n",
       "      <td>19214</td>\n",
       "      <td>8777</td>\n",
       "      <td>3833</td>\n",
       "      <td>2547</td>\n",
       "      <td>59187</td>\n",
       "      <td>Amazônia</td>\n",
       "    </tr>\n",
       "    <tr>\n",
       "      <th>1</th>\n",
       "      <td>1999</td>\n",
       "      <td>160</td>\n",
       "      <td>358</td>\n",
       "      <td>130</td>\n",
       "      <td>70</td>\n",
       "      <td>449</td>\n",
       "      <td>1439</td>\n",
       "      <td>3675</td>\n",
       "      <td>21525</td>\n",
       "      <td>16106</td>\n",
       "      <td>12794</td>\n",
       "      <td>4449</td>\n",
       "      <td>1703</td>\n",
       "      <td>62858</td>\n",
       "      <td>Amazônia</td>\n",
       "    </tr>\n",
       "    <tr>\n",
       "      <th>2</th>\n",
       "      <td>2000</td>\n",
       "      <td>87</td>\n",
       "      <td>182</td>\n",
       "      <td>405</td>\n",
       "      <td>92</td>\n",
       "      <td>930</td>\n",
       "      <td>3211</td>\n",
       "      <td>1510</td>\n",
       "      <td>12791</td>\n",
       "      <td>10062</td>\n",
       "      <td>10226</td>\n",
       "      <td>5497</td>\n",
       "      <td>3175</td>\n",
       "      <td>48168</td>\n",
       "      <td>Amazônia</td>\n",
       "    </tr>\n",
       "    <tr>\n",
       "      <th>3</th>\n",
       "      <td>2001</td>\n",
       "      <td>165</td>\n",
       "      <td>699</td>\n",
       "      <td>1134</td>\n",
       "      <td>617</td>\n",
       "      <td>916</td>\n",
       "      <td>4227</td>\n",
       "      <td>1816</td>\n",
       "      <td>17679</td>\n",
       "      <td>15528</td>\n",
       "      <td>14292</td>\n",
       "      <td>8346</td>\n",
       "      <td>4256</td>\n",
       "      <td>69675</td>\n",
       "      <td>Amazônia</td>\n",
       "    </tr>\n",
       "    <tr>\n",
       "      <th>4</th>\n",
       "      <td>2002</td>\n",
       "      <td>590</td>\n",
       "      <td>667</td>\n",
       "      <td>901</td>\n",
       "      <td>405</td>\n",
       "      <td>1490</td>\n",
       "      <td>5702</td>\n",
       "      <td>7529</td>\n",
       "      <td>43484</td>\n",
       "      <td>48549</td>\n",
       "      <td>27110</td>\n",
       "      <td>23660</td>\n",
       "      <td>9174</td>\n",
       "      <td>169261</td>\n",
       "      <td>Amazônia</td>\n",
       "    </tr>\n",
       "  </tbody>\n",
       "</table>\n",
       "</div>"
      ],
      "text/plain": [
       "    Ano  Janeiro  Fevereiro  Março  Abril  Maio  Junho  Julho  Agosto  \\\n",
       "0  1998        0          0      0      0     0   1549   3192   20075   \n",
       "1  1999      160        358    130     70   449   1439   3675   21525   \n",
       "2  2000       87        182    405     92   930   3211   1510   12791   \n",
       "3  2001      165        699   1134    617   916   4227   1816   17679   \n",
       "4  2002      590        667    901    405  1490   5702   7529   43484   \n",
       "\n",
       "   Setembro  Outubro  Novembro  Dezembro   Total     Bioma  \n",
       "0     19214     8777      3833      2547   59187  Amazônia  \n",
       "1     16106    12794      4449      1703   62858  Amazônia  \n",
       "2     10062    10226      5497      3175   48168  Amazônia  \n",
       "3     15528    14292      8346      4256   69675  Amazônia  \n",
       "4     48549    27110     23660      9174  169261  Amazônia  "
      ]
     },
     "execution_count": 2,
     "metadata": {},
     "output_type": "execute_result"
    }
   ],
   "source": [
    "df = pd.read_csv('dataset/historico_bioma.csv', encoding='latin-1')\n",
    "df.head()"
   ]
  },
  {
   "cell_type": "code",
   "execution_count": 27,
   "metadata": {},
   "outputs": [],
   "source": [
    "df_aux = df[df['Bioma'] == df['Bioma'].unique()[0]]"
   ]
  },
  {
   "cell_type": "code",
   "execution_count": 28,
   "metadata": {},
   "outputs": [
    {
     "data": {
      "text/plain": [
       "'scatter-plot.html'"
      ]
     },
     "execution_count": 28,
     "metadata": {},
     "output_type": "execute_result"
    }
   ],
   "source": [
    "tr = [go.Scatter(\n",
    "    x = df_aux.columns.values[1:13],\n",
    "    y = df_aux.loc[0][1:13],\n",
    "    name = str(df_aux['Ano'][0]),\n",
    "    hovertemplate = df_aux.columns.values[1:13] + ' de ' + \n",
    "        str(df_aux['Ano'][0]) + '<br>nº de focos: ' + [str(i) for i in list(df_aux.loc[0][1:13])],\n",
    "    mode ='lines+markers'\n",
    ")]\n",
    "layout = go.Layout(\n",
    "    title = 'Número de focos de queimadas ao longo do ano',\n",
    "    showlegend=True,\n",
    "    hovermode='closest',\n",
    "    hoverlabel=dict(bgcolor='white',\n",
    "                   font_size=16,\n",
    "                    font_family='Roboto'\n",
    "                   ),\n",
    "    xaxis=dict(title='Meses', \n",
    "              linecolor='rgba(0,0,0,1)'),\n",
    "    yaxis=dict(title='Número de focos de queimadas',\n",
    "              linecolor='rgba(0,0,0,1)')\n",
    "    \n",
    ")\n",
    "fig = go.Figure(data=tr, layout=layout)\n",
    "pyo.plot(fig,filename='scatter-plot.html')"
   ]
  },
  {
   "cell_type": "code",
   "execution_count": 43,
   "metadata": {},
   "outputs": [
    {
     "data": {
      "text/plain": [
       "'scatter-plot.html'"
      ]
     },
     "execution_count": 43,
     "metadata": {},
     "output_type": "execute_result"
    }
   ],
   "source": [
    "tr = []\n",
    "for i in range(df_aux.shape[0]):\n",
    "    tr.append(go.Scatter(\n",
    "    x = df_aux.columns.values[1:13],\n",
    "    y = df_aux.loc[i][1:13],\n",
    "    mode='lines+markers',\n",
    "    name=str(df_aux['Ano'][i]),\n",
    "    hovertemplate=df_aux.columns.values[1:13] + 'de' +\n",
    "    str(df_aux['Ano'][i])+'<br>nº de focos: ' + \n",
    "    [str(i) for i in list(df_aux.loc[i][1:13])]\n",
    "    ))\n",
    "layout = go.Layout(\n",
    "    title='Número de focos de queimadas ao lonfo do ano no bioma: '+\n",
    "    df['Bioma'].unique()[0],\n",
    "    showlegend=True,\n",
    "    hovermode='closest',\n",
    "    hoverlabel=dict(bgcolor='white',\n",
    "                   font_size=16,\n",
    "                   font_family='Roboto'),\n",
    "    xaxis=dict(title='Meses', linecolor='rgba(0,0,0,1)'),\n",
    "    yaxis=dict(title='Número de focos de queimadas', linecolor='rgba(0,0,0,1)')\n",
    ")\n",
    "fig=go.Figure(data=tr,layout=layout)\n",
    "pyo.plot(fig,filename='scatter-plot.html')"
   ]
  },
  {
   "cell_type": "code",
   "execution_count": 26,
   "metadata": {},
   "outputs": [
    {
     "data": {
      "text/plain": [
       "'bar-plot.html'"
      ]
     },
     "execution_count": 26,
     "metadata": {},
     "output_type": "execute_result"
    }
   ],
   "source": [
    "\n",
    "tr = [go.Bar(\n",
    "    x = df_aux['Ano'],\n",
    "    y = df_aux['Total'],\n",
    "    name=df_aux['Bioma'].unique()[0],\n",
    "    hovertemplate=['Total de focos de queimadas: ' +\n",
    "                  i for i in [str(i) for i in (df_aux['Total'])]]\n",
    ")]\n",
    "layout = go.Layout(\n",
    "    title ='Total de focos de queimadas ao longo de todo o período avaliado no bioma: '+\n",
    "    df['Bioma'].unique()[0],\n",
    "    xaxis=dict(title='Anos', linecolor='rgba(0,0,0,1)', tickmode='array', tickvals=df_aux['Ano'], ticktext=df_aux['Ano']),\n",
    "    yaxis= dict(title='Total de focos de queimadas',linecolor='rgba(0,0,0,1)', tickformat=False),\n",
    "    showlegend=True,\n",
    "    hoverlabel=dict(bgcolor='white',\n",
    "                   font_size=16,\n",
    "                   font_family='Roboto')\n",
    ")\n",
    "fig = go.Figure(data=tr,layout=layout)\n",
    "pyo.plot(fig, filename='bar-plot.html')"
   ]
  },
  {
   "cell_type": "code",
   "execution_count": 37,
   "metadata": {},
   "outputs": [
    {
     "data": {
      "text/plain": [
       "'pie-plot.html'"
      ]
     },
     "execution_count": 37,
     "metadata": {},
     "output_type": "execute_result"
    }
   ],
   "source": [
    "tr = [go.Pie(\n",
    "    labels=df_aux['Ano'],\n",
    "    values=df_aux['Total'],\n",
    "    rotation=-30,\n",
    "    insidetextorientation='radial',\n",
    "    hole=.3\n",
    ")]\n",
    "layout = go.Layout(\n",
    "    title='Total de focos de queimadas ao londo de todo o período avaliado no bioma: ' +\n",
    "    df['Bioma'].unique()[0],\n",
    "    annotations=[dict(text='Total',\n",
    "                     x=.5,\n",
    "                     y=0.5,\n",
    "                     font_size=20,\n",
    "                     font_family='Roboto',\n",
    "                     showarrow=False)]\n",
    ")\n",
    "fig = go.Figure(data=tr, layout=layout)\n",
    "pyo.plot(fig, filename='pie-plot.html')"
   ]
  },
  {
   "cell_type": "code",
   "execution_count": 40,
   "metadata": {},
   "outputs": [
    {
     "data": {
      "text/plain": [
       "Ano              1999\n",
       "Janeiro           160\n",
       "Fevereiro         358\n",
       "Março             130\n",
       "Abril              70\n",
       "Maio              449\n",
       "Junho            1439\n",
       "Julho            3675\n",
       "Agosto          21525\n",
       "Setembro        16106\n",
       "Outubro         12794\n",
       "Novembro         4449\n",
       "Dezembro         1703\n",
       "Total           62858\n",
       "Bioma        Amazônia\n",
       "Name: 1, dtype: object"
      ]
     },
     "execution_count": 40,
     "metadata": {},
     "output_type": "execute_result"
    }
   ],
   "source": [
    "df_aux.loc[1]"
   ]
  },
  {
   "cell_type": "code",
   "execution_count": null,
   "metadata": {},
   "outputs": [],
   "source": []
  }
 ],
 "metadata": {
  "kernelspec": {
   "display_name": "Python 3",
   "language": "python",
   "name": "python3"
  },
  "language_info": {
   "codemirror_mode": {
    "name": "ipython",
    "version": 3
   },
   "file_extension": ".py",
   "mimetype": "text/x-python",
   "name": "python",
   "nbconvert_exporter": "python",
   "pygments_lexer": "ipython3",
   "version": "3.8.5"
  }
 },
 "nbformat": 4,
 "nbformat_minor": 4
}
