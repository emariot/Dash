{
 "cells": [
  {
   "cell_type": "code",
   "execution_count": 2,
   "id": "solar-heating",
   "metadata": {},
   "outputs": [],
   "source": [
    "from jupyter_dash import JupyterDash\n",
    "import dash_core_components as dcc\n",
    "import dash_html_components as html\n",
    "import plotly.express as px\n",
    "import pandas as pd"
   ]
  },
  {
   "cell_type": "code",
   "execution_count": 10,
   "id": "comparable-handbook",
   "metadata": {},
   "outputs": [
    {
     "data": {
      "text/html": [
       "<div>\n",
       "<style scoped>\n",
       "    .dataframe tbody tr th:only-of-type {\n",
       "        vertical-align: middle;\n",
       "    }\n",
       "\n",
       "    .dataframe tbody tr th {\n",
       "        vertical-align: top;\n",
       "    }\n",
       "\n",
       "    .dataframe thead th {\n",
       "        text-align: right;\n",
       "    }\n",
       "</style>\n",
       "<table border=\"1\" class=\"dataframe\">\n",
       "  <thead>\n",
       "    <tr style=\"text-align: right;\">\n",
       "      <th></th>\n",
       "      <th>Frutas</th>\n",
       "      <th>Qtd</th>\n",
       "      <th>UF</th>\n",
       "    </tr>\n",
       "  </thead>\n",
       "  <tbody>\n",
       "    <tr>\n",
       "      <th>0</th>\n",
       "      <td>banana</td>\n",
       "      <td>3</td>\n",
       "      <td>RJ</td>\n",
       "    </tr>\n",
       "    <tr>\n",
       "      <th>1</th>\n",
       "      <td>maçãs</td>\n",
       "      <td>2</td>\n",
       "      <td>SC</td>\n",
       "    </tr>\n",
       "    <tr>\n",
       "      <th>2</th>\n",
       "      <td>laranjas</td>\n",
       "      <td>1</td>\n",
       "      <td>RJ</td>\n",
       "    </tr>\n",
       "    <tr>\n",
       "      <th>3</th>\n",
       "      <td>ameixas</td>\n",
       "      <td>3</td>\n",
       "      <td>SC</td>\n",
       "    </tr>\n",
       "    <tr>\n",
       "      <th>4</th>\n",
       "      <td>banana</td>\n",
       "      <td>5</td>\n",
       "      <td>SC</td>\n",
       "    </tr>\n",
       "    <tr>\n",
       "      <th>5</th>\n",
       "      <td>maçãs</td>\n",
       "      <td>7</td>\n",
       "      <td>RJ</td>\n",
       "    </tr>\n",
       "    <tr>\n",
       "      <th>6</th>\n",
       "      <td>laranjas</td>\n",
       "      <td>6</td>\n",
       "      <td>SC</td>\n",
       "    </tr>\n",
       "    <tr>\n",
       "      <th>7</th>\n",
       "      <td>ameixas</td>\n",
       "      <td>5</td>\n",
       "      <td>RJ</td>\n",
       "    </tr>\n",
       "  </tbody>\n",
       "</table>\n",
       "</div>"
      ],
      "text/plain": [
       "     Frutas  Qtd  UF\n",
       "0    banana    3  RJ\n",
       "1     maçãs    2  SC\n",
       "2  laranjas    1  RJ\n",
       "3   ameixas    3  SC\n",
       "4    banana    5  SC\n",
       "5     maçãs    7  RJ\n",
       "6  laranjas    6  SC\n",
       "7   ameixas    5  RJ"
      ]
     },
     "execution_count": 10,
     "metadata": {},
     "output_type": "execute_result"
    }
   ],
   "source": [
    "df = pd.DataFrame({\n",
    "    \"Frutas\": [\"banana\", \"maçãs\", \"laranjas\", \"ameixas\",\"banana\", \"maçãs\", \"laranjas\", \"ameixas\"],\n",
    "    \"Qtd\": [3,2,1,3,5,7,6,5],\n",
    "    \"UF\": [\"RJ\", \"SC\",\"RJ\", \"SC\",\"SC\", \"RJ\",\"SC\", \"RJ\"]    \n",
    "})\n",
    "df"
   ]
  },
  {
   "cell_type": "code",
   "execution_count": 23,
   "id": "floral-wound",
   "metadata": {},
   "outputs": [
    {
     "name": "stdout",
     "output_type": "stream",
     "text": [
      "Dash app running on http://127.0.0.1:8050/\n"
     ]
    }
   ],
   "source": [
    "external_stylesheets = ['https://codepen.io/chriddyp/pen/bWLwgP.css']\n",
    "app = JupyterDash(__name__, external_stylesheets=external_stylesheets)\n",
    "\n",
    "colors = {\n",
    "    'background': '#111111',\n",
    "    \"text\": '#7FDBFF'\n",
    "    }\n",
    "\n",
    "fig = px.bar(df, x=\"Frutas\", y=\"Qtd\", color=\"UF\", barmode='group')\n",
    "\n",
    "fig.update_layout(\n",
    "    plot_bgcolor=colors['background'],\n",
    "    paper_bgcolor=colors['background'],\n",
    "    font_color=colors[\"text\"]\n",
    "    )\n",
    "\n",
    "app.layout = html.Div([\n",
    "    html.H1(\n",
    "        \"Olá Dash\",\n",
    "        style={\n",
    "               'textAlign':'center',\n",
    "               'color': colors['text']\n",
    "               }\n",
    "           ),\n",
    "    \n",
    "    html.Div('''\n",
    "       Dash para aplicativos web: mostre minhas análises ao mundo!\n",
    "    ''',\n",
    "        style={\n",
    "            'textAlign':'center',\n",
    "            'color': colors['text']\n",
    "        }\n",
    "    ),\n",
    "    dcc.Graph(\n",
    "    id='example_graph',\n",
    "    figure=fig\n",
    "    )\n",
    "],style = {'backgroundColor':colors['background']})\n",
    "app.run_server(mode=\"external\")"
   ]
  },
  {
   "cell_type": "code",
   "execution_count": null,
   "id": "suffering-wheat",
   "metadata": {},
   "outputs": [],
   "source": []
  }
 ],
 "metadata": {
  "kernelspec": {
   "display_name": "Python 3",
   "language": "python",
   "name": "python3"
  },
  "language_info": {
   "codemirror_mode": {
    "name": "ipython",
    "version": 3
   },
   "file_extension": ".py",
   "mimetype": "text/x-python",
   "name": "python",
   "nbconvert_exporter": "python",
   "pygments_lexer": "ipython3",
   "version": "3.8.5"
  }
 },
 "nbformat": 4,
 "nbformat_minor": 5
}
